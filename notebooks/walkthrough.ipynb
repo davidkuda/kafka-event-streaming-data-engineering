{
 "cells": [
  {
   "cell_type": "code",
   "execution_count": null,
   "id": "8f809254-e275-40d5-9726-7696df53c3be",
   "metadata": {},
   "outputs": [],
   "source": [
    "# First, make sure that kafka is running and available according to your config."
   ]
  },
  {
   "cell_type": "code",
   "execution_count": 1,
   "id": "6d3f472b-52f8-489e-a53a-b35e08013f3d",
   "metadata": {},
   "outputs": [],
   "source": [
    "import os\n",
    "import sys"
   ]
  },
  {
   "cell_type": "code",
   "execution_count": 2,
   "id": "5647458c-1210-4a0e-894e-4b60d599fa14",
   "metadata": {},
   "outputs": [],
   "source": [
    "# Make sure that you are on the root level \"log-queue-api\":\n",
    "current_dir = os.getcwd().split(\"/\")[-1]\n",
    "if current_dir != \"log-queue-api\":\n",
    "    os.chdir(\"..\")"
   ]
  },
  {
   "cell_type": "code",
   "execution_count": 3,
   "id": "a45f7a29-34d5-43dc-984d-35c269a58bc9",
   "metadata": {},
   "outputs": [],
   "source": [
    "from multiprocessing import Process\n",
    "from threading import Thread\n",
    "\n",
    "import cli"
   ]
  },
  {
   "cell_type": "code",
   "execution_count": 4,
   "id": "69f2aec5-c571-4b6d-ba87-46362f0fc14a",
   "metadata": {},
   "outputs": [
    {
     "name": "stdout",
     "output_type": "stream",
     "text": [
      "Topic website_visits deleted\n",
      "Topic visits_per_minute deleted\n"
     ]
    }
   ],
   "source": [
    "cli.delete_topics()"
   ]
  },
  {
   "cell_type": "code",
   "execution_count": 5,
   "id": "c5d5ec70-07d6-4672-b2ce-9a5d691f3a16",
   "metadata": {},
   "outputs": [
    {
     "name": "stdout",
     "output_type": "stream",
     "text": [
      "Create topic website_visits\n",
      "Create topic visits_per_minute\n"
     ]
    }
   ],
   "source": [
    "cli.create_topics()"
   ]
  },
  {
   "cell_type": "code",
   "execution_count": 6,
   "id": "5e6016fc-e55c-411f-b2db-109f0ebbfece",
   "metadata": {},
   "outputs": [],
   "source": [
    "bgp = Process(target=cli.subscribe_to_website_visits)"
   ]
  },
  {
   "cell_type": "code",
   "execution_count": 7,
   "id": "746ee696-6d9e-413e-aa97-92bfc11f8fe3",
   "metadata": {},
   "outputs": [],
   "source": [
    "# bgp.start()\n",
    "# bgp.kill()"
   ]
  },
  {
   "cell_type": "code",
   "execution_count": 8,
   "id": "f47e4fc9-c852-4157-8f20-8e239313ce20",
   "metadata": {},
   "outputs": [
    {
     "name": "stdout",
     "output_type": "stream",
     "text": [
      "Waiting...\n"
     ]
    }
   ],
   "source": [
    "Thread(target=cli.subscribe_to_website_visits).start()\n",
    "Thread(target=cli.subscribe_to_unique_visits_per_min).start()"
   ]
  },
  {
   "cell_type": "code",
   "execution_count": 9,
   "id": "c4ab8afa-a7ee-4058-ad62-1de343a550e7",
   "metadata": {
    "tags": []
   },
   "outputs": [
    {
     "name": "stdout",
     "output_type": "stream",
     "text": [
      "A minute finished:\n",
      "date:  2016-07-11 13:40:00\n",
      "count:  16\n",
      "\n",
      "Consumed event from topic visits_per_minute: key=2016-07-11 13:40:00, value:\n",
      "{'count': 16, 'datetime': 1468244400}\n",
      "\n",
      "A minute finished:\n",
      "date:  2016-07-11 13:41:00\n",
      "count:  59\n",
      "\n",
      "Consumed event from topic visits_per_minute: key=2016-07-11 13:41:00, value:\n",
      "{'count': 59, 'datetime': 1468244460}\n",
      "\n",
      "A minute finished:\n",
      "date:  2016-07-11 13:42:00\n",
      "count:  59\n",
      "\n",
      "Consumed event from topic visits_per_minute: key=2016-07-11 13:42:00, value:\n",
      "{'count': 59, 'datetime': 1468244520}\n",
      "\n",
      "A minute finished:\n",
      "date:  2016-07-11 13:43:00\n",
      "count:  59\n",
      "\n",
      "Consumed event from topic visits_per_minute: key=2016-07-11 13:43:00, value:\n",
      "{'count': 59, 'datetime': 1468244580}\n",
      "\n",
      "A minute finished:\n",
      "date:  2016-07-11 13:44:00\n",
      "count:  59\n",
      "\n",
      "Consumed event from topic visits_per_minute: key=2016-07-11 13:44:00, value:\n",
      "{'count': 59, 'datetime': 1468244640}\n",
      "\n",
      "A minute finished:\n",
      "date:  2016-07-11 13:45:00\n",
      "count:  59\n",
      "\n",
      "Consumed event from topic visits_per_minute: key=2016-07-11 13:45:00, value:\n",
      "{'count': 59, 'datetime': 1468244700}\n",
      "\n",
      "A minute finished:\n",
      "date:  2016-07-11 13:46:00\n",
      "count:  59\n",
      "\n",
      "Consumed event from topic visits_per_minute: key=2016-07-11 13:46:00, value:\n",
      "{'count': 59, 'datetime': 1468244760}\n",
      "\n"
     ]
    },
    {
     "ename": "KeyboardInterrupt",
     "evalue": "",
     "output_type": "error",
     "traceback": [
      "\u001b[0;31m---------------------------------------------------------------------------\u001b[0m",
      "\u001b[0;31mKeyboardInterrupt\u001b[0m                         Traceback (most recent call last)",
      "Input \u001b[0;32mIn [9]\u001b[0m, in \u001b[0;36m<cell line: 1>\u001b[0;34m()\u001b[0m\n\u001b[0;32m----> 1\u001b[0m \u001b[43mcli\u001b[49m\u001b[38;5;241;43m.\u001b[39;49m\u001b[43mstream_website_visits\u001b[49m\u001b[43m(\u001b[49m\u001b[43m)\u001b[49m\n",
      "File \u001b[0;32m~/dev/repos/contentful_data_challenge/log-queue-api/src/cli.py:49\u001b[0m, in \u001b[0;36mstream_website_visits\u001b[0;34m()\u001b[0m\n\u001b[1;32m     47\u001b[0m \u001b[38;5;129m@app\u001b[39m\u001b[38;5;241m.\u001b[39mcommand()\n\u001b[1;32m     48\u001b[0m \u001b[38;5;28;01mdef\u001b[39;00m \u001b[38;5;21mstream_website_visits\u001b[39m():\n\u001b[0;32m---> 49\u001b[0m     \u001b[38;5;28;01mfor\u001b[39;00m ts, uid \u001b[38;5;129;01min\u001b[39;00m yield_ts_and_uid(limit\u001b[38;5;241m=\u001b[39m\u001b[38;5;241m10000\u001b[39m):\n\u001b[1;32m     50\u001b[0m         data \u001b[38;5;241m=\u001b[39m json\u001b[38;5;241m.\u001b[39mdumps({\n\u001b[1;32m     51\u001b[0m             \u001b[38;5;124m\"\u001b[39m\u001b[38;5;124mts\u001b[39m\u001b[38;5;124m\"\u001b[39m: ts,\n\u001b[1;32m     52\u001b[0m             \u001b[38;5;124m\"\u001b[39m\u001b[38;5;124muid\u001b[39m\u001b[38;5;124m\"\u001b[39m: uid,\n\u001b[1;32m     53\u001b[0m         })\n\u001b[1;32m     54\u001b[0m         kafka_io\u001b[38;5;241m.\u001b[39mpush(\u001b[38;5;124m\"\u001b[39m\u001b[38;5;124mwebsite_visits\u001b[39m\u001b[38;5;124m\"\u001b[39m, \u001b[38;5;28mstr\u001b[39m(ts), data)\n",
      "File \u001b[0;32m~/dev/repos/contentful_data_challenge/log-queue-api/src/log_queue_api/json_io.py:17\u001b[0m, in \u001b[0;36myield_ts_and_uid\u001b[0;34m(json_file_path, limit, skip_equals)\u001b[0m\n\u001b[1;32m     14\u001b[0m previous_ts: \u001b[38;5;28mstr\u001b[39m \u001b[38;5;241m=\u001b[39m \u001b[38;5;28;01mNone\u001b[39;00m\n\u001b[1;32m     16\u001b[0m \u001b[38;5;28;01mfor\u001b[39;00m line \u001b[38;5;129;01min\u001b[39;00m f:\n\u001b[0;32m---> 17\u001b[0m     data \u001b[38;5;241m=\u001b[39m \u001b[43mjson\u001b[49m\u001b[38;5;241;43m.\u001b[39;49m\u001b[43mloads\u001b[49m\u001b[43m(\u001b[49m\u001b[43mline\u001b[49m\u001b[43m)\u001b[49m\n\u001b[1;32m     19\u001b[0m     \u001b[38;5;28;01mif\u001b[39;00m skip_equals:\n\u001b[1;32m     20\u001b[0m         \u001b[38;5;28;01mif\u001b[39;00m previous_ts \u001b[38;5;241m==\u001b[39m data[\u001b[38;5;124m\"\u001b[39m\u001b[38;5;124mts\u001b[39m\u001b[38;5;124m\"\u001b[39m]:\n",
      "File \u001b[0;32m/opt/homebrew/Caskroom/miniconda/base/envs/log-queue-api/lib/python3.9/json/__init__.py:346\u001b[0m, in \u001b[0;36mloads\u001b[0;34m(s, cls, object_hook, parse_float, parse_int, parse_constant, object_pairs_hook, **kw)\u001b[0m\n\u001b[1;32m    341\u001b[0m     s \u001b[38;5;241m=\u001b[39m s\u001b[38;5;241m.\u001b[39mdecode(detect_encoding(s), \u001b[38;5;124m'\u001b[39m\u001b[38;5;124msurrogatepass\u001b[39m\u001b[38;5;124m'\u001b[39m)\n\u001b[1;32m    343\u001b[0m \u001b[38;5;28;01mif\u001b[39;00m (\u001b[38;5;28mcls\u001b[39m \u001b[38;5;129;01mis\u001b[39;00m \u001b[38;5;28;01mNone\u001b[39;00m \u001b[38;5;129;01mand\u001b[39;00m object_hook \u001b[38;5;129;01mis\u001b[39;00m \u001b[38;5;28;01mNone\u001b[39;00m \u001b[38;5;129;01mand\u001b[39;00m\n\u001b[1;32m    344\u001b[0m         parse_int \u001b[38;5;129;01mis\u001b[39;00m \u001b[38;5;28;01mNone\u001b[39;00m \u001b[38;5;129;01mand\u001b[39;00m parse_float \u001b[38;5;129;01mis\u001b[39;00m \u001b[38;5;28;01mNone\u001b[39;00m \u001b[38;5;129;01mand\u001b[39;00m\n\u001b[1;32m    345\u001b[0m         parse_constant \u001b[38;5;129;01mis\u001b[39;00m \u001b[38;5;28;01mNone\u001b[39;00m \u001b[38;5;129;01mand\u001b[39;00m object_pairs_hook \u001b[38;5;129;01mis\u001b[39;00m \u001b[38;5;28;01mNone\u001b[39;00m \u001b[38;5;129;01mand\u001b[39;00m \u001b[38;5;129;01mnot\u001b[39;00m kw):\n\u001b[0;32m--> 346\u001b[0m     \u001b[38;5;28;01mreturn\u001b[39;00m \u001b[43m_default_decoder\u001b[49m\u001b[38;5;241;43m.\u001b[39;49m\u001b[43mdecode\u001b[49m\u001b[43m(\u001b[49m\u001b[43ms\u001b[49m\u001b[43m)\u001b[49m\n\u001b[1;32m    347\u001b[0m \u001b[38;5;28;01mif\u001b[39;00m \u001b[38;5;28mcls\u001b[39m \u001b[38;5;129;01mis\u001b[39;00m \u001b[38;5;28;01mNone\u001b[39;00m:\n\u001b[1;32m    348\u001b[0m     \u001b[38;5;28mcls\u001b[39m \u001b[38;5;241m=\u001b[39m JSONDecoder\n",
      "File \u001b[0;32m/opt/homebrew/Caskroom/miniconda/base/envs/log-queue-api/lib/python3.9/json/decoder.py:337\u001b[0m, in \u001b[0;36mJSONDecoder.decode\u001b[0;34m(self, s, _w)\u001b[0m\n\u001b[1;32m    332\u001b[0m \u001b[38;5;28;01mdef\u001b[39;00m \u001b[38;5;21mdecode\u001b[39m(\u001b[38;5;28mself\u001b[39m, s, _w\u001b[38;5;241m=\u001b[39mWHITESPACE\u001b[38;5;241m.\u001b[39mmatch):\n\u001b[1;32m    333\u001b[0m     \u001b[38;5;124;03m\"\"\"Return the Python representation of ``s`` (a ``str`` instance\u001b[39;00m\n\u001b[1;32m    334\u001b[0m \u001b[38;5;124;03m    containing a JSON document).\u001b[39;00m\n\u001b[1;32m    335\u001b[0m \n\u001b[1;32m    336\u001b[0m \u001b[38;5;124;03m    \"\"\"\u001b[39;00m\n\u001b[0;32m--> 337\u001b[0m     obj, end \u001b[38;5;241m=\u001b[39m \u001b[38;5;28;43mself\u001b[39;49m\u001b[38;5;241;43m.\u001b[39;49m\u001b[43mraw_decode\u001b[49m\u001b[43m(\u001b[49m\u001b[43ms\u001b[49m\u001b[43m,\u001b[49m\u001b[43m \u001b[49m\u001b[43midx\u001b[49m\u001b[38;5;241;43m=\u001b[39;49m\u001b[43m_w\u001b[49m\u001b[43m(\u001b[49m\u001b[43ms\u001b[49m\u001b[43m,\u001b[49m\u001b[43m \u001b[49m\u001b[38;5;241;43m0\u001b[39;49m\u001b[43m)\u001b[49m\u001b[38;5;241;43m.\u001b[39;49m\u001b[43mend\u001b[49m\u001b[43m(\u001b[49m\u001b[43m)\u001b[49m\u001b[43m)\u001b[49m\n\u001b[1;32m    338\u001b[0m     end \u001b[38;5;241m=\u001b[39m _w(s, end)\u001b[38;5;241m.\u001b[39mend()\n\u001b[1;32m    339\u001b[0m     \u001b[38;5;28;01mif\u001b[39;00m end \u001b[38;5;241m!=\u001b[39m \u001b[38;5;28mlen\u001b[39m(s):\n",
      "File \u001b[0;32m/opt/homebrew/Caskroom/miniconda/base/envs/log-queue-api/lib/python3.9/json/decoder.py:353\u001b[0m, in \u001b[0;36mJSONDecoder.raw_decode\u001b[0;34m(self, s, idx)\u001b[0m\n\u001b[1;32m    344\u001b[0m \u001b[38;5;124;03m\"\"\"Decode a JSON document from ``s`` (a ``str`` beginning with\u001b[39;00m\n\u001b[1;32m    345\u001b[0m \u001b[38;5;124;03ma JSON document) and return a 2-tuple of the Python\u001b[39;00m\n\u001b[1;32m    346\u001b[0m \u001b[38;5;124;03mrepresentation and the index in ``s`` where the document ended.\u001b[39;00m\n\u001b[0;32m   (...)\u001b[0m\n\u001b[1;32m    350\u001b[0m \n\u001b[1;32m    351\u001b[0m \u001b[38;5;124;03m\"\"\"\u001b[39;00m\n\u001b[1;32m    352\u001b[0m \u001b[38;5;28;01mtry\u001b[39;00m:\n\u001b[0;32m--> 353\u001b[0m     obj, end \u001b[38;5;241m=\u001b[39m \u001b[38;5;28;43mself\u001b[39;49m\u001b[38;5;241;43m.\u001b[39;49m\u001b[43mscan_once\u001b[49m\u001b[43m(\u001b[49m\u001b[43ms\u001b[49m\u001b[43m,\u001b[49m\u001b[43m \u001b[49m\u001b[43midx\u001b[49m\u001b[43m)\u001b[49m\n\u001b[1;32m    354\u001b[0m \u001b[38;5;28;01mexcept\u001b[39;00m \u001b[38;5;167;01mStopIteration\u001b[39;00m \u001b[38;5;28;01mas\u001b[39;00m err:\n\u001b[1;32m    355\u001b[0m     \u001b[38;5;28;01mraise\u001b[39;00m JSONDecodeError(\u001b[38;5;124m\"\u001b[39m\u001b[38;5;124mExpecting value\u001b[39m\u001b[38;5;124m\"\u001b[39m, s, err\u001b[38;5;241m.\u001b[39mvalue) \u001b[38;5;28;01mfrom\u001b[39;00m \u001b[38;5;28mNone\u001b[39m\n",
      "\u001b[0;31mKeyboardInterrupt\u001b[0m: "
     ]
    },
    {
     "name": "stdout",
     "output_type": "stream",
     "text": [
      "Waiting...\n",
      "Waiting...\n",
      "Waiting...\n",
      "Waiting...\n",
      "Waiting...\n"
     ]
    }
   ],
   "source": [
    "cli.stream_website_visits()"
   ]
  },
  {
   "cell_type": "code",
   "execution_count": null,
   "id": "d805feea-787b-4e98-95bb-feadd512f341",
   "metadata": {},
   "outputs": [],
   "source": []
  }
 ],
 "metadata": {
  "kernelspec": {
   "display_name": "Python 3 (ipykernel)",
   "language": "python",
   "name": "python3"
  },
  "language_info": {
   "codemirror_mode": {
    "name": "ipython",
    "version": 3
   },
   "file_extension": ".py",
   "mimetype": "text/x-python",
   "name": "python",
   "nbconvert_exporter": "python",
   "pygments_lexer": "ipython3",
   "version": "3.9.12"
  }
 },
 "nbformat": 4,
 "nbformat_minor": 5
}

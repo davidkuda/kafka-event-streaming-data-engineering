{
 "cells": [
  {
   "cell_type": "code",
   "execution_count": null,
   "id": "8f809254-e275-40d5-9726-7696df53c3be",
   "metadata": {},
   "outputs": [],
   "source": [
    "# First, make sure that kafka is running and available according to your config."
   ]
  },
  {
   "cell_type": "code",
   "execution_count": 1,
   "id": "6d3f472b-52f8-489e-a53a-b35e08013f3d",
   "metadata": {},
   "outputs": [],
   "source": [
    "import os\n",
    "import sys"
   ]
  },
  {
   "cell_type": "code",
   "execution_count": 2,
   "id": "5647458c-1210-4a0e-894e-4b60d599fa14",
   "metadata": {},
   "outputs": [],
   "source": [
    "# Make sure that you are on the root level \"log-queue-api\":\n",
    "current_dir = os.getcwd().split(\"/\")[-1]\n",
    "if current_dir != \"log-queue-api\":\n",
    "    os.chdir(\"..\")"
   ]
  },
  {
   "cell_type": "code",
   "execution_count": 3,
   "id": "a45f7a29-34d5-43dc-984d-35c269a58bc9",
   "metadata": {},
   "outputs": [],
   "source": [
    "from multiprocessing import Process\n",
    "\n",
    "import cli"
   ]
  },
  {
   "cell_type": "code",
   "execution_count": 6,
   "id": "69f2aec5-c571-4b6d-ba87-46362f0fc14a",
   "metadata": {},
   "outputs": [
    {
     "name": "stdout",
     "output_type": "stream",
     "text": [
      "Topic website_visits deleted\n",
      "Topic visits_per_minute deleted\n"
     ]
    }
   ],
   "source": [
    "cli.delete_topics()"
   ]
  },
  {
   "cell_type": "code",
   "execution_count": 7,
   "id": "c5d5ec70-07d6-4672-b2ce-9a5d691f3a16",
   "metadata": {},
   "outputs": [
    {
     "name": "stdout",
     "output_type": "stream",
     "text": [
      "Create topic website_visits\n",
      "Create topic visits_per_minute\n"
     ]
    }
   ],
   "source": [
    "cli.create_topics()"
   ]
  },
  {
   "cell_type": "code",
   "execution_count": 8,
   "id": "5e6016fc-e55c-411f-b2db-109f0ebbfece",
   "metadata": {},
   "outputs": [],
   "source": [
    "bgp = Process(target=cli.subscribe_to_website_visits)"
   ]
  },
  {
   "cell_type": "code",
   "execution_count": 9,
   "id": "746ee696-6d9e-413e-aa97-92bfc11f8fe3",
   "metadata": {},
   "outputs": [],
   "source": [
    "bgp.start()\n",
    "# bgp.kill()"
   ]
  },
  {
   "cell_type": "code",
   "execution_count": 7,
   "id": "c4ab8afa-a7ee-4058-ad62-1de343a550e7",
   "metadata": {
    "tags": []
   },
   "outputs": [],
   "source": [
    "cli.stream_website_visits()"
   ]
  },
  {
   "cell_type": "code",
   "execution_count": null,
   "id": "68a262d2-45fb-46cd-8ef7-04925eb78f0e",
   "metadata": {},
   "outputs": [],
   "source": []
  }
 ],
 "metadata": {
  "kernelspec": {
   "display_name": "Python 3 (ipykernel)",
   "language": "python",
   "name": "python3"
  },
  "language_info": {
   "codemirror_mode": {
    "name": "ipython",
    "version": 3
   },
   "file_extension": ".py",
   "mimetype": "text/x-python",
   "name": "python",
   "nbconvert_exporter": "python",
   "pygments_lexer": "ipython3",
   "version": "3.9.12"
  }
 },
 "nbformat": 4,
 "nbformat_minor": 5
}
